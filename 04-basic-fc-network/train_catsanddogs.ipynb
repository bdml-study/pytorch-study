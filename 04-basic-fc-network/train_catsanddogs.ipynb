{
 "cells": [
  {
   "cell_type": "code",
   "execution_count": 1,
   "metadata": {},
   "outputs": [],
   "source": [
    "import torch\n",
    "import numpy as np\n",
    "import matplotlib.pyplot as plt\n",
    "from utils.data import CatsAndDogs\n",
    "from torch.utils.data import DataLoader\n",
    "from torch import nn, optim\n",
    "from torch.nn import functional as F\n",
    "from models.classifier import ClassifierForCatsAndDogs"
   ]
  },
  {
   "cell_type": "code",
   "execution_count": 2,
   "metadata": {},
   "outputs": [],
   "source": [
    "BATCH_SIZE = 16\n",
    "ETA = 1e-4\n",
    "EPOCHS = 20"
   ]
  },
  {
   "cell_type": "code",
   "execution_count": 3,
   "metadata": {},
   "outputs": [],
   "source": [
    "def compute_accuracy(ps, labels):\n",
    "    equality = (torch.round(ps) == labels).float()\n",
    "    acc = equality.mean()\n",
    "    return acc"
   ]
  },
  {
   "cell_type": "code",
   "execution_count": 4,
   "metadata": {},
   "outputs": [],
   "source": [
    "def train_step(context, x, y):\n",
    "    model = context[\"model\"]\n",
    "    optimizer = context[\"optimizer\"]\n",
    "    \n",
    "    optimizer.zero_grad()\n",
    "    \n",
    "    ps = model(x)\n",
    "    loss = F.binary_cross_entropy(ps.squeeze(), y) # nn.BCELoss()(ps, y) 와 같음\n",
    "    \n",
    "    loss.backward()\n",
    "    optimizer.step()\n",
    "    \n",
    "    acc = compute_accuracy(ps, y)\n",
    "    \n",
    "    return loss.item(), acc.item()"
   ]
  },
  {
   "cell_type": "code",
   "execution_count": 5,
   "metadata": {},
   "outputs": [],
   "source": [
    "def eval_step(context, x, y):\n",
    "    model = context[\"model\"]\n",
    "    \n",
    "    ps = model(x)\n",
    "    loss = F.binary_cross_entropy(ps.squeeze(), y) # nn.BCELoss()(ps, y) 와 같음\n",
    "    \n",
    "    acc = compute_accuracy(ps, y)\n",
    "    \n",
    "    return loss.item(), acc.item()"
   ]
  },
  {
   "cell_type": "code",
   "execution_count": 6,
   "metadata": {},
   "outputs": [],
   "source": [
    "def train():\n",
    "    trainset = CatsAndDogs(mode=\"train\")\n",
    "    train_loader = DataLoader(trainset, batch_size=BATCH_SIZE, shuffle=True)\n",
    "    \n",
    "    testset = CatsAndDogs(mode=\"test\")\n",
    "    test_loader = DataLoader(testset, batch_size=BATCH_SIZE)\n",
    "    \n",
    "    model = ClassifierForCatsAndDogs().cuda()\n",
    "    optimizer = optim.Adam(model.parameters())\n",
    "    \n",
    "    context = {\n",
    "        \"model\": model,\n",
    "        \"optimizer\": optimizer\n",
    "    }\n",
    "    \n",
    "    for e in range(EPOCHS):\n",
    "        train_loss = 0.0\n",
    "        train_acc = 0.0\n",
    "        test_loss = 0.0\n",
    "        test_acc = 0.0\n",
    "        \n",
    "        model.train()\n",
    "        \n",
    "        for x, y in train_loader:\n",
    "            x = x.cuda()\n",
    "            y = y.float().cuda()\n",
    "            \n",
    "            loss, acc = train_step(context, x, y)\n",
    "            train_loss += loss\n",
    "            train_acc += acc\n",
    "            \n",
    "        model.eval()\n",
    "            \n",
    "        for x, y in test_loader:\n",
    "            x = x.cuda()\n",
    "            y = y.float().cuda()\n",
    "            \n",
    "            with torch.no_grad():\n",
    "                loss, acc = eval_step(context, x, y)\n",
    "                test_loss += loss\n",
    "                test_acc += acc\n",
    "                \n",
    "        train_loss /= len(train_loader)\n",
    "        train_acc /= len(train_loader)\n",
    "        test_loss /= len(test_loader)\n",
    "        test_acc /= len(test_loader)\n",
    "        \n",
    "        print(f\"Epochs {e+1}/{EPOCHS}\")\n",
    "        print(f\"Train loss: {train_loss:.8f}, train acc: {train_acc:.4f}\")\n",
    "        print(f\"Test loss: {test_loss:.8f}, test acc: {test_acc:.4f}\")"
   ]
  },
  {
   "cell_type": "code",
   "execution_count": 7,
   "metadata": {},
   "outputs": [
    {
     "name": "stdout",
     "output_type": "stream",
     "text": [
      "Epochs 1/20\n",
      "Train loss: 0.69092307, train acc: 0.5077\n",
      "Test loss: 0.69841562, test acc: 0.4927\n",
      "Epochs 2/20\n",
      "Train loss: 0.61859359, train acc: 0.5052\n",
      "Test loss: 0.71909586, test acc: 0.5042\n",
      "Epochs 3/20\n",
      "Train loss: 0.53082603, train acc: 0.5069\n",
      "Test loss: 0.75912769, test acc: 0.6046\n",
      "Epochs 4/20\n",
      "Train loss: 0.41191910, train acc: 0.5119\n",
      "Test loss: 0.82727659, test acc: 0.6119\n",
      "Epochs 5/20\n",
      "Train loss: 0.30396221, train acc: 0.5296\n",
      "Test loss: 0.88734561, test acc: 0.6339\n",
      "Epochs 6/20\n",
      "Train loss: 0.18386573, train acc: 0.5226\n",
      "Test loss: 1.08427759, test acc: 0.6035\n",
      "Epochs 7/20\n",
      "Train loss: 0.09908524, train acc: 0.5215\n",
      "Test loss: 1.15791741, test acc: 0.6122\n",
      "Epochs 8/20\n",
      "Train loss: 0.05271021, train acc: 0.5224\n",
      "Test loss: 1.68204543, test acc: 0.5784\n",
      "Epochs 9/20\n",
      "Train loss: 0.02603689, train acc: 0.5174\n",
      "Test loss: 1.48537129, test acc: 0.5765\n",
      "Epochs 10/20\n",
      "Train loss: 0.01388881, train acc: 0.5269\n",
      "Test loss: 1.59793290, test acc: 0.6122\n",
      "Epochs 11/20\n",
      "Train loss: 0.00721093, train acc: 0.5198\n",
      "Test loss: 1.93160757, test acc: 0.6320\n",
      "Epochs 12/20\n",
      "Train loss: 0.00476388, train acc: 0.5180\n",
      "Test loss: 1.92263690, test acc: 0.6077\n",
      "Epochs 13/20\n",
      "Train loss: 0.00277121, train acc: 0.5260\n",
      "Test loss: 1.91591719, test acc: 0.6077\n",
      "Epochs 14/20\n",
      "Train loss: 0.00193657, train acc: 0.5131\n",
      "Test loss: 1.94070882, test acc: 0.6256\n",
      "Epochs 15/20\n",
      "Train loss: 0.00160317, train acc: 0.5191\n",
      "Test loss: 1.96003911, test acc: 0.6256\n",
      "Epochs 16/20\n",
      "Train loss: 0.00133749, train acc: 0.5444\n",
      "Test loss: 1.97933725, test acc: 0.6434\n",
      "Epochs 17/20\n",
      "Train loss: 0.00118224, train acc: 0.5444\n",
      "Test loss: 2.01063389, test acc: 0.6434\n",
      "Epochs 18/20\n",
      "Train loss: 0.00103029, train acc: 0.5208\n",
      "Test loss: 2.03619739, test acc: 0.6256\n",
      "Epochs 19/20\n",
      "Train loss: 0.00091809, train acc: 0.5496\n",
      "Test loss: 2.06995666, test acc: 0.6256\n",
      "Epochs 20/20\n",
      "Train loss: 0.00084200, train acc: 0.5180\n",
      "Test loss: 2.09373268, test acc: 0.6434\n"
     ]
    }
   ],
   "source": [
    "train()"
   ]
  },
  {
   "cell_type": "code",
   "execution_count": null,
   "metadata": {},
   "outputs": [],
   "source": []
  }
 ],
 "metadata": {
  "kernelspec": {
   "display_name": "Python 3",
   "language": "python",
   "name": "python3"
  },
  "language_info": {
   "codemirror_mode": {
    "name": "ipython",
    "version": 3
   },
   "file_extension": ".py",
   "mimetype": "text/x-python",
   "name": "python",
   "nbconvert_exporter": "python",
   "pygments_lexer": "ipython3",
   "version": "3.7.6"
  }
 },
 "nbformat": 4,
 "nbformat_minor": 4
}
