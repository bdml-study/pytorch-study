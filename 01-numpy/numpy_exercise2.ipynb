{
 "cells": [
  {
   "cell_type": "code",
   "execution_count": null,
   "id": "266a56fe-40bb-4428-8ecc-126cc0778331",
   "metadata": {},
   "outputs": [],
   "source": [
    "import numpy as np\n",
    "import matplotlib.pyplot as plt\n",
    "from sklearn.decomposition import PCA"
   ]
  },
  {
   "cell_type": "code",
   "execution_count": null,
   "id": "d2a14dcc-9ec3-4890-9478-4b05334f1fa9",
   "metadata": {},
   "outputs": [],
   "source": [
    "N = 100 # 데이터 갯수"
   ]
  },
  {
   "cell_type": "markdown",
   "id": "2335b368-d254-408a-991d-cb7385bbca23",
   "metadata": {},
   "source": [
    "# PCA 짜보기\n",
    "\n",
    "PCA를 이해할 필요는 없으나, 수식을 따라 짤수있어도 성공적임. 수식을 보고 바로바로 코드가 생각이 안 날수 있지만, 수식의 summation이 있다면 summation index가 무엇을 의미하는지(어느 축 방향으로의 sum인지), 각 행렬 또는 벡터의 차원은 어떻게 되야하는지, 수식에서 연산의 축 방향은 무엇인지를 잘 생각해보고 풀어보면 풀 수 있을듯"
   ]
  },
  {
   "cell_type": "markdown",
   "id": "c5413a20-b0e3-4e5e-bc28-22bcdd5a8965",
   "metadata": {},
   "source": [
    "## 데이터 생성"
   ]
  },
  {
   "cell_type": "markdown",
   "id": "6c8935f4-d42f-4594-9841-6373f5e1725f",
   "metadata": {},
   "source": [
    "row 1개가 1개 데이터 샘플임. column 1개는 feature 1개를 의미\n",
    "\n",
    "(100, 5) 차원의 데이터 생성 -> 100개의 데이터인데, 각 데이터는 5개의 feature를 가짐"
   ]
  },
  {
   "cell_type": "code",
   "execution_count": null,
   "id": "6adab43b-862c-4372-8363-49b37dd8c1b2",
   "metadata": {},
   "outputs": [],
   "source": [
    "X = np.zeros((N, 5))\n",
    "X[:70] = np.random.randn(70, 5) - 2\n",
    "X[70:] = np.random.randn(30, 5) + 2"
   ]
  },
  {
   "cell_type": "markdown",
   "id": "c60c8698-b701-4d7c-9cfa-3394bc068809",
   "metadata": {},
   "source": [
    "## 데이터 확인"
   ]
  },
  {
   "cell_type": "code",
   "execution_count": null,
   "id": "93f1d457-4d01-4a97-887d-9e1cb97c202b",
   "metadata": {},
   "outputs": [],
   "source": [
    "pca = PCA(n_components=2)\n",
    "pca.fit(X)\n",
    "X_vis = pca.transform(X)\n",
    "\n",
    "plt.scatter(X_vis[:, 0], X_vis[:, 1])\n",
    "plt.show()"
   ]
  },
  {
   "cell_type": "markdown",
   "id": "0700904b-51f5-4a8a-913a-98f051f6ec22",
   "metadata": {},
   "source": [
    "다음을 계산:\n",
    "$$\n",
    "X_{\\mu} = \\frac{1}{N} \\sum_{i=1}^N X_i\n",
    "$$\n",
    "($N$은 데이터 개수)\n",
    "\n",
    "이때, summation은 데이터 샘플을 모두 더하라는 것임을 주의! 결과는 (1, 5) 차원이어야 함"
   ]
  },
  {
   "cell_type": "code",
   "execution_count": null,
   "id": "4770aeab-e1bc-4a21-a37a-7bbb2855a627",
   "metadata": {},
   "outputs": [],
   "source": [
    "X_mu = None"
   ]
  },
  {
   "cell_type": "markdown",
   "id": "a4565c5c-03f0-438d-a371-83be5c9acde4",
   "metadata": {},
   "source": [
    "다음을 계산:\n",
    "$$\n",
    "X_{center} = X - X_{\\mu}\n",
    "$$\n",
    "\n",
    "각 데이터 샘플 하나하나를 평행 이동시킬건데, 각 5개의 feature들의 평균이 0이 되도록 평행이동\n",
    "\n",
    "결과는 (100, 5) 차원이어야 함"
   ]
  },
  {
   "cell_type": "code",
   "execution_count": null,
   "id": "49793cf6-321b-4661-b526-82730fdff1ab",
   "metadata": {},
   "outputs": [],
   "source": [
    "X_center = None"
   ]
  },
  {
   "cell_type": "markdown",
   "id": "1288f9eb-3b91-41d8-a89c-0b04052da7d1",
   "metadata": {},
   "source": [
    "다음을 계산:\n",
    "$$\n",
    "\\Sigma = \\frac{1}{N}*(X_{center}^T \\cdot X_{center})\n",
    "$$\n",
    "\n",
    "$X_{center}$의 covariance matrix 계산\n",
    "\n",
    "$\\cdot$은 matrix multiplication. 결과는 (5, 5) 차원이어야 함"
   ]
  },
  {
   "cell_type": "code",
   "execution_count": null,
   "id": "a6d44bb0-62b4-4a54-b75d-7ae2701201e1",
   "metadata": {},
   "outputs": [],
   "source": [
    "Sigma = None"
   ]
  },
  {
   "cell_type": "markdown",
   "id": "6bd23ad3-8f92-4fc6-852f-eaa67bc36ad8",
   "metadata": {},
   "source": [
    "$\\Sigma$의 eigen-decomposition을 계산"
   ]
  },
  {
   "cell_type": "code",
   "execution_count": null,
   "id": "58d674dd-8d7f-4e4e-97ff-f781da9fa37c",
   "metadata": {},
   "outputs": [],
   "source": [
    "eigvals, eigvecs = None, None"
   ]
  },
  {
   "cell_type": "markdown",
   "id": "61f50960-c401-449d-944a-912a944577d9",
   "metadata": {},
   "source": [
    "eigvals는 (5,) 차원의 array, eigvecs는 (5, 5) 차원의 array이다.\n",
    "\n",
    "다음 형태의 리스트를 만들기\n",
    "```python\n",
    "eig_pairs = \\\n",
    "[(eigvals[0], eigvecs[:, 0]), (eigvals[1], eigvecs[:, 1]), (eigvals[2], eigvecs[:, 2]), (eigvals[3], eigvecs[:, 3]), (eigvals[4], eigvecs[:, 4])]\n",
    "```"
   ]
  },
  {
   "cell_type": "code",
   "execution_count": null,
   "id": "c306fbac-9af7-4b60-b30d-86554d5dab51",
   "metadata": {},
   "outputs": [],
   "source": [
    "eig_pairs = []"
   ]
  },
  {
   "cell_type": "markdown",
   "id": "7b67d937-b409-47a5-a5eb-651b3e7a37ff",
   "metadata": {},
   "source": [
    "`eig_pairs`는 튜플의 리스트인데, 튜플의 첫 번째 원소의 대소관계를 이용하여 **내림차순**으로 리스트를 정렬하기(eigen value의 내림차순으로 튜플들을 정렬하라는 의미임)\n",
    "\n",
    "정렬할때, `sorted`를 사용할 경우, `reverse=True` 인자 넣어줄 것(내림차순으로 정렬해줌)"
   ]
  },
  {
   "cell_type": "code",
   "execution_count": null,
   "id": "c612acdd-5bcd-4602-8e18-4a6651d3e602",
   "metadata": {},
   "outputs": [],
   "source": [
    "eig_pairs_sorted = []"
   ]
  },
  {
   "cell_type": "markdown",
   "id": "82821b9d-e69b-458f-8bb1-d940306f3120",
   "metadata": {},
   "source": [
    "리스트의 원소 5개 중 앞의 두개의 튜플만 뽑아오기"
   ]
  },
  {
   "cell_type": "code",
   "execution_count": null,
   "id": "aa60c8f8-2b3e-49de-9410-a0f320c6b8f7",
   "metadata": {},
   "outputs": [],
   "source": [
    "eig_pairs_sorted_2 = []"
   ]
  },
  {
   "cell_type": "markdown",
   "id": "66bac12a-628f-4845-b0b0-d36e5f8ac118",
   "metadata": {},
   "source": [
    "뽑아온 두 개의 튜플에서 각각 두번째 원소(eigen vector)만 뽑아오기(`map`)\n",
    "\n",
    "첫번째 줄만 작성!"
   ]
  },
  {
   "cell_type": "code",
   "execution_count": null,
   "id": "db9d6550-e5e9-440e-ad52-db7c172860b3",
   "metadata": {},
   "outputs": [],
   "source": [
    "eigvecs_sorted = []\n",
    "eigvecs_sorted = list(eigvecs_sorted)"
   ]
  },
  {
   "cell_type": "markdown",
   "id": "01189f5c-1ccb-4e92-9d76-ba09b4b508ab",
   "metadata": {},
   "source": [
    "두 개의 eigen vector는 각각 (5,) 차원의 array이다. 얘네를 두번째 축으로 stacking 해 줘서 (5, 2) array를 만들 것"
   ]
  },
  {
   "cell_type": "code",
   "execution_count": null,
   "id": "1e3653a4-a0d9-419e-af9b-8fc93be66aa2",
   "metadata": {},
   "outputs": [],
   "source": [
    "eigvecs_stacked = []"
   ]
  },
  {
   "cell_type": "markdown",
   "id": "3d91cc05-979b-4c07-9374-6c5dd0b8e225",
   "metadata": {},
   "source": [
    "다음을 계산:\n",
    "$$\n",
    "X_{test} = X_{center} \\cdot U\n",
    "$$\n",
    "\n",
    "$U$는 위에서 만든 `eigvecs_stacked` 임"
   ]
  },
  {
   "cell_type": "code",
   "execution_count": null,
   "id": "c0a10843-a90c-4499-9de3-950d09e03a53",
   "metadata": {},
   "outputs": [],
   "source": [
    "X_test = None"
   ]
  },
  {
   "cell_type": "markdown",
   "id": "ebf3cf05-b31e-453c-ae47-d2100400220e",
   "metadata": {},
   "source": [
    "ㅇㅋ 시각화 테스트(수정 필요 x)"
   ]
  },
  {
   "cell_type": "code",
   "execution_count": null,
   "id": "22f7f20c-d8e7-448f-bddf-ff5b72abba23",
   "metadata": {},
   "outputs": [],
   "source": [
    "plt.scatter(X_test[:, 0], X_test[:, 1])\n",
    "plt.show()"
   ]
  },
  {
   "cell_type": "code",
   "execution_count": null,
   "id": "096f48c4-fcd6-4d31-aa22-d545c95e4d3e",
   "metadata": {},
   "outputs": [],
   "source": []
  }
 ],
 "metadata": {
  "kernelspec": {
   "display_name": "Python 3",
   "language": "python",
   "name": "python3"
  },
  "language_info": {
   "codemirror_mode": {
    "name": "ipython",
    "version": 3
   },
   "file_extension": ".py",
   "mimetype": "text/x-python",
   "name": "python",
   "nbconvert_exporter": "python",
   "pygments_lexer": "ipython3",
   "version": "3.8.5"
  }
 },
 "nbformat": 4,
 "nbformat_minor": 5
}
