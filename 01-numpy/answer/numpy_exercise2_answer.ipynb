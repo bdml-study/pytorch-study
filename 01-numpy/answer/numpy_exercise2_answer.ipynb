{
 "cells": [
  {
   "cell_type": "code",
   "execution_count": 1,
   "id": "266a56fe-40bb-4428-8ecc-126cc0778331",
   "metadata": {},
   "outputs": [],
   "source": [
    "import numpy as np\n",
    "import matplotlib.pyplot as plt\n",
    "from sklearn.decomposition import PCA"
   ]
  },
  {
   "cell_type": "code",
   "execution_count": 2,
   "id": "d2a14dcc-9ec3-4890-9478-4b05334f1fa9",
   "metadata": {},
   "outputs": [],
   "source": [
    "N = 100 # 데이터 갯수"
   ]
  },
  {
   "cell_type": "markdown",
   "id": "dae02cd8-31dd-42e9-8133-086ff209b892",
   "metadata": {},
   "source": [
    "# PCA 짜보기\n",
    "\n",
    "PCA를 이해할 필요는 없으나, 수식을 따라 짤수있어도 성공적임. 수식을 보고 바로바로 코드가 생각이 안 날수 있지만, 수식의 summation이 있다면 summation index가 무엇을 의미하는지(어느 축 방향으로의 sum인지), 각 행렬 또는 벡터의 차원은 어떻게 되야하는지, 수식에서 연산의 축 방향은 무엇인지를 잘 생각해보고 풀어보면 풀 수 있을듯"
   ]
  },
  {
   "cell_type": "markdown",
   "id": "c5413a20-b0e3-4e5e-bc28-22bcdd5a8965",
   "metadata": {},
   "source": [
    "## 데이터 생성"
   ]
  },
  {
   "cell_type": "markdown",
   "id": "9e7d0844-ac55-4890-b005-7bbadb921615",
   "metadata": {},
   "source": [
    "row 1개가 1개 데이터 샘플임. column 1개는 feature 1개를 의미\n",
    "\n",
    "(100, 5) 차원의 데이터 생성 -> 100개의 데이터인데, 각 데이터는 5개의 feature를 가짐"
   ]
  },
  {
   "cell_type": "code",
   "execution_count": 3,
   "id": "6adab43b-862c-4372-8363-49b37dd8c1b2",
   "metadata": {},
   "outputs": [],
   "source": [
    "X = np.zeros((N, 5))\n",
    "X[:70] = np.random.randn(70, 5) - 2\n",
    "X[70:] = np.random.randn(30, 5) + 2"
   ]
  },
  {
   "cell_type": "markdown",
   "id": "c60c8698-b701-4d7c-9cfa-3394bc068809",
   "metadata": {},
   "source": [
    "## 데이터 확인"
   ]
  },
  {
   "cell_type": "code",
   "execution_count": 4,
   "id": "93f1d457-4d01-4a97-887d-9e1cb97c202b",
   "metadata": {},
   "outputs": [
    {
     "data": {
      "image/png": "[encoded data removed]",
      "text/plain": [
       "<Figure size 432x288 with 1 Axes>"
      ]
     },
     "metadata": {
      "needs_background": "light"
     },
     "output_type": "display_data"
    }
   ],
   "source": [
    "pca = PCA(n_components=2)\n",
    "pca.fit(X)\n",
    "X_vis = pca.transform(X)\n",
    "\n",
    "plt.scatter(X_vis[:, 0], X_vis[:, 1])\n",
    "plt.show()"
   ]
  },
  {
   "cell_type": "markdown",
   "id": "40052459-d5b6-4b31-8f62-d85755000cc4",
   "metadata": {},
   "source": [
    "다음을 계산:\n",
    "$$\n",
    "X_{\\mu} = \\frac{1}{N} \\sum_{i=1}^N X_i\n",
    "$$\n",
    "($N$은 데이터 개수)\n",
    "\n",
    "이때, summation은 데이터 샘플을 모두 더하라는 것임을 주의! 결과는 (1, 5) 차원이어야 함"
   ]
  },
  {
   "cell_type": "code",
   "execution_count": 6,
   "id": "3794cdfb-a11e-42e2-be6a-8d3426f017f1",
   "metadata": {},
   "outputs": [],
   "source": [
    "X_mu = np.mean(X, axis=0, keepdims=True)"
   ]
  },
  {
   "cell_type": "markdown",
   "id": "df7707d6-e9b0-42ed-9008-038fcc73eb44",
   "metadata": {},
   "source": [
    "다음을 계산:\n",
    "$$\n",
    "X_{center} = X - X_{\\mu}\n",
    "$$\n",
    "\n",
    "각 데이터 샘플 하나하나를 평행 이동시킬건데, 각 5개의 feature들의 평균이 0이 되도록 평행이동\n",
    "\n",
    "결과는 (100, 5) 차원이어야 함"
   ]
  },
  {
   "cell_type": "code",
   "execution_count": 7,
   "id": "77058114-ff7c-415a-a6e0-a99730ba7c99",
   "metadata": {},
   "outputs": [],
   "source": [
    "X_center = X - X_mu"
   ]
  },
  {
   "cell_type": "markdown",
   "id": "bf445476-a071-4226-a8c1-4e0988ee4b2a",
   "metadata": {},
   "source": [
    "다음을 계산:\n",
    "$$\n",
    "\\Sigma = \\frac{1}{N}*(X_{center}^T \\cdot X_{center})\n",
    "$$\n",
    "\n",
    "$X_{center}$의 covariance matrix 계산\n",
    "\n",
    "$\\cdot$은 matrix multiplication. 결과는 (5, 5) 차원이어야 함"
   ]
  },
  {
   "cell_type": "code",
   "execution_count": 8,
   "id": "54122f2f-bb8c-44c9-9e3b-d2628cdda836",
   "metadata": {},
   "outputs": [],
   "source": [
    "Sigma = (1/N) * np.matmul(X_center.T, X_center)"
   ]
  },
  {
   "cell_type": "markdown",
   "id": "d2c5999b-46f8-46b0-8fb6-79c1d27dac58",
   "metadata": {},
   "source": [
    "$\\Sigma$의 eigen-decomposition을 계산"
   ]
  },
  {
   "cell_type": "code",
   "execution_count": 9,
   "id": "169cefbc-2caa-4ab5-b9c4-ca1cd2ae86d2",
   "metadata": {},
   "outputs": [],
   "source": [
    "eigvals, eigvecs = np.linalg.eig(Sigma)"
   ]
  },
  {
   "cell_type": "markdown",
   "id": "7e7b7e55-5663-4110-b19d-18fe57311f4d",
   "metadata": {},
   "source": [
    "eigvals는 (5,) 차원의 array, eigvecs는 (5, 5) 차원의 array이다.\n",
    "\n",
    "다음 형태의 리스트를 만들기\n",
    "```python\n",
    "eig_pairs = \\\n",
    "[(eigvals[0], eigvecs[:, 0]), (eigvals[1], eigvecs[:, 1]), (eigvals[2], eigvecs[:, 2]), (eigvals[3], eigvecs[:, 3]), (eigvals[4], eigvecs[:, 4])]\n",
    "```"
   ]
  },
  {
   "cell_type": "code",
   "execution_count": 10,
   "id": "7b86055d-65b5-4c43-afb3-9736075f2dd5",
   "metadata": {},
   "outputs": [],
   "source": [
    "eig_pairs = [(eigvals[i], eigvecs[:, i]) for i in range(5)]"
   ]
  },
  {
   "cell_type": "markdown",
   "id": "7b67d937-b409-47a5-a5eb-651b3e7a37ff",
   "metadata": {},
   "source": [
    "`eig_pairs`는 튜플의 리스트인데, 튜플의 첫 번째 원소의 대소관계를 이용하여 **내림차순**으로 리스트를 정렬하기(eigen value의 내림차순으로 튜플들을 정렬하라는 의미임)\n",
    "\n",
    "정렬할때, `sorted`를 사용할 경우, `reverse=True` 인자 넣어줄 것(내림차순으로 정렬해줌)"
   ]
  },
  {
   "cell_type": "code",
   "execution_count": 11,
   "id": "f8011067-65f4-4fc1-9c6d-475390ee4866",
   "metadata": {},
   "outputs": [],
   "source": [
    "eig_pairs_sorted = sorted(eig_pairs, key=lambda tup: tup[0], reverse=True)"
   ]
  },
  {
   "cell_type": "markdown",
   "id": "82821b9d-e69b-458f-8bb1-d940306f3120",
   "metadata": {},
   "source": [
    "리스트의 원소 5개 중 앞의 두개의 튜플만 뽑아오기"
   ]
  },
  {
   "cell_type": "code",
   "execution_count": 12,
   "id": "8a0c63b6-2da4-4150-8361-f46d4ff8f75a",
   "metadata": {},
   "outputs": [],
   "source": [
    "eig_pairs_sorted_2 = eig_pairs_sorted[:2]"
   ]
  },
  {
   "cell_type": "markdown",
   "id": "66bac12a-628f-4845-b0b0-d36e5f8ac118",
   "metadata": {},
   "source": [
    "뽑아온 두 개의 튜플에서 각각 두번째 원소(eigen vector)만 뽑아오기(`map`)\n",
    "\n",
    "첫번째 줄만 작성!"
   ]
  },
  {
   "cell_type": "code",
   "execution_count": 13,
   "id": "e2e20516-c831-4209-b3a2-91b2230df535",
   "metadata": {},
   "outputs": [],
   "source": [
    "eigvecs_sorted = map(lambda tup: tup[1], eig_pairs_sorted_2)\n",
    "eigvecs_sorted = list(eigvecs_sorted)"
   ]
  },
  {
   "cell_type": "markdown",
   "id": "01189f5c-1ccb-4e92-9d76-ba09b4b508ab",
   "metadata": {},
   "source": [
    "두 개의 eigen vector는 각각 (5,) 차원의 array이다. 얘네를 1차원 방향으로 stacking 해 줘서 (5, 2) array를 만들 것"
   ]
  },
  {
   "cell_type": "code",
   "execution_count": 14,
   "id": "90537a9c-7beb-4315-bb6b-112458d0669d",
   "metadata": {},
   "outputs": [],
   "source": [
    "eigvecs_stacked = np.stack(eigvecs_sorted, axis=1)"
   ]
  },
  {
   "cell_type": "markdown",
   "id": "3d91cc05-979b-4c07-9374-6c5dd0b8e225",
   "metadata": {},
   "source": [
    "다음을 계산:\n",
    "$$\n",
    "X_{test} = (X - X_{\\mu}) \\cdot U\n",
    "$$\n",
    "\n",
    "$U$는 위에서 만든 `eigvecs_stacked` 임"
   ]
  },
  {
   "cell_type": "code",
   "execution_count": 15,
   "id": "3dd6d07b-7774-4977-90d6-49eeef4a5f8a",
   "metadata": {},
   "outputs": [],
   "source": [
    "X_test = np.matmul(X_center, eigvecs_stacked)"
   ]
  },
  {
   "cell_type": "markdown",
   "id": "ebf3cf05-b31e-453c-ae47-d2100400220e",
   "metadata": {},
   "source": [
    "ㅇㅋ 시각화 테스트"
   ]
  },
  {
   "cell_type": "code",
   "execution_count": 16,
   "id": "22f7f20c-d8e7-448f-bddf-ff5b72abba23",
   "metadata": {},
   "outputs": [
    {
     "data": {
      "image/png": "[encoded data removed]",
      "text/plain": [
       "<Figure size 432x288 with 1 Axes>"
      ]
     },
     "metadata": {
      "needs_background": "light"
     },
     "output_type": "display_data"
    }
   ],
   "source": [
    "plt.scatter(X_test[:, 0], X_test[:, 1])\n",
    "plt.show()"
   ]
  },
  {
   "cell_type": "code",
   "execution_count": null,
   "id": "096f48c4-fcd6-4d31-aa22-d545c95e4d3e",
   "metadata": {},
   "outputs": [],
   "source": []
  }
 ],
 "metadata": {
  "kernelspec": {
   "display_name": "Python 3",
   "language": "python",
   "name": "python3"
  },
  "language_info": {
   "codemirror_mode": {
    "name": "ipython",
    "version": 3
   },
   "file_extension": ".py",
   "mimetype": "text/x-python",
   "name": "python",
   "nbconvert_exporter": "python",
   "pygments_lexer": "ipython3",
   "version": "3.8.5"
  }
 },
 "nbformat": 4,
 "nbformat_minor": 5
}
