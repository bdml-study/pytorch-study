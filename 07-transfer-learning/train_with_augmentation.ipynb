{
 "cells": [
  {
   "cell_type": "code",
   "execution_count": null,
   "id": "empirical-router",
   "metadata": {},
   "outputs": [],
   "source": [
    "import os\n",
    "os.environ[\"CUDA_VISIBLE_DEVICES\"] = \"2\""
   ]
  },
  {
   "cell_type": "code",
   "execution_count": 2,
   "id": "toxic-dinner",
   "metadata": {},
   "outputs": [],
   "source": [
    "import torch\n",
    "import numpy as np\n",
    "import matplotlib.pyplot as plt\n",
    "from data_utils.data import CatsAndDogs\n",
    "from torch.utils.data import DataLoader\n",
    "from torch import nn, optim\n",
    "from torch.nn import functional as F\n",
    "from models.classifier import Classifier"
   ]
  },
  {
   "cell_type": "code",
   "execution_count": 9,
   "id": "packed-addiction",
   "metadata": {},
   "outputs": [],
   "source": [
    "BATCH_SIZE = 128\n",
    "ETA = 1e-4\n",
    "EPOCHS = 5"
   ]
  },
  {
   "cell_type": "code",
   "execution_count": 4,
   "id": "satisfactory-chase",
   "metadata": {},
   "outputs": [],
   "source": [
    "def compute_accuracy(ps, labels):\n",
    "    equality = (torch.round(ps) == labels).float()\n",
    "    acc = equality.mean()\n",
    "    return acc"
   ]
  },
  {
   "cell_type": "code",
   "execution_count": 5,
   "id": "frozen-canyon",
   "metadata": {},
   "outputs": [],
   "source": [
    "def train_step(context, x, y):\n",
    "    model = context[\"model\"]\n",
    "    optimizer = context[\"optimizer\"]\n",
    "    \n",
    "    optimizer.zero_grad()\n",
    "    \n",
    "    ps = model(x)\n",
    "    ps = ps.squeeze()\n",
    "    loss = F.binary_cross_entropy(ps, y) # nn.BCELoss()(ps, y) 와 같음\n",
    "    \n",
    "    loss.backward()\n",
    "    optimizer.step()\n",
    "    \n",
    "    acc = compute_accuracy(ps, y)\n",
    "    \n",
    "    return loss.item(), acc.item()"
   ]
  },
  {
   "cell_type": "code",
   "execution_count": 6,
   "id": "compressed-trail",
   "metadata": {},
   "outputs": [],
   "source": [
    "def eval_step(context, x, y):\n",
    "    model = context[\"model\"]\n",
    "    \n",
    "    ps = model(x)\n",
    "    ps = ps.squeeze()\n",
    "    loss = F.binary_cross_entropy(ps, y) # nn.BCELoss()(ps, y) 와 같음\n",
    "    \n",
    "    acc = compute_accuracy(ps, y)\n",
    "    \n",
    "    return loss.item(), acc.item()"
   ]
  },
  {
   "cell_type": "code",
   "execution_count": 11,
   "id": "treated-father",
   "metadata": {},
   "outputs": [],
   "source": [
    "def train():\n",
    "    trainset = CatsAndDogs(mode=\"train\", distortion=True, crop=True)\n",
    "    train_loader = DataLoader(trainset, batch_size=BATCH_SIZE, shuffle=True)\n",
    "    \n",
    "    testset = CatsAndDogs(mode=\"test\")\n",
    "    test_loader = DataLoader(testset, batch_size=BATCH_SIZE)\n",
    "    \n",
    "    model = Classifier().cuda()\n",
    "    optimizer = optim.Adam(model.parameters())\n",
    "    \n",
    "    context = {\n",
    "        \"model\": model,\n",
    "        \"optimizer\": optimizer\n",
    "    }\n",
    "    \n",
    "    for e in range(EPOCHS):\n",
    "        train_loss = 0.0\n",
    "        train_acc = 0.0\n",
    "        test_loss = 0.0\n",
    "        test_acc = 0.0\n",
    "        \n",
    "        model.train()\n",
    "        \n",
    "        for x, y in train_loader:\n",
    "            x = x.cuda()\n",
    "            y = y.float().cuda()\n",
    "            \n",
    "            loss, acc = train_step(context, x, y)\n",
    "            train_loss += loss\n",
    "            train_acc += acc\n",
    "            \n",
    "        model.eval()\n",
    "            \n",
    "        for x, y in test_loader:\n",
    "            x = x.cuda()\n",
    "            y = y.float().cuda()\n",
    "            \n",
    "            with torch.no_grad():\n",
    "                loss, acc = eval_step(context, x, y)\n",
    "                test_loss += loss\n",
    "                test_acc += acc\n",
    "                \n",
    "        train_loss /= len(train_loader)\n",
    "        train_acc /= len(train_loader)\n",
    "        test_loss /= len(test_loader)\n",
    "        test_acc /= len(test_loader)\n",
    "        \n",
    "        if (e+1)%1 == 0:\n",
    "            print(f\"Epochs {e+1}/{EPOCHS}\")\n",
    "            print(f\"Train loss: {train_loss:.8f}, train acc: {train_acc:.4f}\")\n",
    "            print(f\"Test loss: {test_loss:.8f}, test acc: {test_acc:.4f}\")"
   ]
  },
  {
   "cell_type": "code",
   "execution_count": 12,
   "id": "confirmed-religion",
   "metadata": {},
   "outputs": [
    {
     "name": "stdout",
     "output_type": "stream",
     "text": [
      "Epochs 1/5\n",
      "Train loss: 0.13224773, train acc: 0.9447\n",
      "Test loss: 0.19956845, test acc: 0.9223\n",
      "Epochs 2/5\n",
      "Train loss: 0.09417461, train acc: 0.9618\n",
      "Test loss: 0.08849475, test acc: 0.9657\n",
      "Epochs 3/5\n",
      "Train loss: 0.07567671, train acc: 0.9701\n",
      "Test loss: 0.07304023, test acc: 0.9709\n",
      "Epochs 4/5\n",
      "Train loss: 0.06283667, train acc: 0.9755\n",
      "Test loss: 0.09545016, test acc: 0.9638\n",
      "Epochs 5/5\n",
      "Train loss: 0.05446789, train acc: 0.9786\n",
      "Test loss: 0.08275525, test acc: 0.9691\n"
     ]
    }
   ],
   "source": [
    "train()"
   ]
  },
  {
   "cell_type": "code",
   "execution_count": null,
   "id": "seven-safety",
   "metadata": {},
   "outputs": [],
   "source": []
  }
 ],
 "metadata": {
  "kernelspec": {
   "display_name": "Python (PyTorch)",
   "language": "python",
   "name": "torch"
  },
  "language_info": {
   "codemirror_mode": {
    "name": "ipython",
    "version": 3
   },
   "file_extension": ".py",
   "mimetype": "text/x-python",
   "name": "python",
   "nbconvert_exporter": "python",
   "pygments_lexer": "ipython3",
   "version": "3.7.9"
  }
 },
 "nbformat": 4,
 "nbformat_minor": 5
}
