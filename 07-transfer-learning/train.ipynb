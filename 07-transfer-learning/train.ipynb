{
 "cells": [
  {
   "cell_type": "code",
   "execution_count": 1,
   "id": "labeled-simon",
   "metadata": {},
   "outputs": [],
   "source": [
    "import os\n",
    "os.environ[\"CUDA_VISIBLE_DEVICES\"] = \"0\""
   ]
  },
  {
   "cell_type": "code",
   "execution_count": 2,
   "id": "clean-cricket",
   "metadata": {},
   "outputs": [],
   "source": [
    "import torch\n",
    "import numpy as np\n",
    "import matplotlib.pyplot as plt\n",
    "from data_utils.data import CatsAndDogs\n",
    "from torch.utils.data import DataLoader\n",
    "from torch import nn, optim\n",
    "from torch.nn import functional as F\n",
    "from models.classifier import Classifier"
   ]
  },
  {
   "cell_type": "code",
   "execution_count": 3,
   "id": "optical-retrieval",
   "metadata": {},
   "outputs": [],
   "source": [
    "BATCH_SIZE = 32\n",
    "ETA = 1e-5\n",
    "EPOCHS = 5"
   ]
  },
  {
   "cell_type": "code",
   "execution_count": 4,
   "id": "instant-demand",
   "metadata": {},
   "outputs": [],
   "source": [
    "def compute_accuracy(ps, labels):\n",
    "    equality = (torch.round(ps) == labels).float()\n",
    "    acc = equality.mean()\n",
    "    return acc"
   ]
  },
  {
   "cell_type": "code",
   "execution_count": 5,
   "id": "informal-sullivan",
   "metadata": {},
   "outputs": [],
   "source": [
    "def train_step(context, x, y):\n",
    "    model = context[\"model\"]\n",
    "    optimizer = context[\"optimizer\"]\n",
    "    \n",
    "    optimizer.zero_grad()\n",
    "    \n",
    "    ps = model(x)\n",
    "    ps = ps.squeeze()\n",
    "    loss = F.binary_cross_entropy(ps, y) # nn.BCELoss()(ps, y) 와 같음\n",
    "    \n",
    "    loss.backward()\n",
    "    optimizer.step()\n",
    "    \n",
    "    acc = compute_accuracy(ps, y)\n",
    "    \n",
    "    return loss.item(), acc.item()"
   ]
  },
  {
   "cell_type": "code",
   "execution_count": 6,
   "id": "controlled-aggregate",
   "metadata": {},
   "outputs": [],
   "source": [
    "def eval_step(context, x, y):\n",
    "    model = context[\"model\"]\n",
    "    \n",
    "    ps = model(x)\n",
    "    ps = ps.squeeze()\n",
    "    loss = F.binary_cross_entropy(ps, y) # nn.BCELoss()(ps, y) 와 같음\n",
    "    \n",
    "    acc = compute_accuracy(ps, y)\n",
    "    \n",
    "    return loss.item(), acc.item()"
   ]
  },
  {
   "cell_type": "code",
   "execution_count": 7,
   "id": "advanced-rogers",
   "metadata": {},
   "outputs": [],
   "source": [
    "def train():\n",
    "    trainset = CatsAndDogs(mode=\"train\")\n",
    "    train_loader = DataLoader(trainset, batch_size=BATCH_SIZE, shuffle=True)\n",
    "    \n",
    "    testset = CatsAndDogs(mode=\"test\")\n",
    "    test_loader = DataLoader(testset, batch_size=BATCH_SIZE)\n",
    "    \n",
    "    model = Classifier().cuda()\n",
    "    optimizer = optim.Adam(model.parameters())\n",
    "    \n",
    "    context = {\n",
    "        \"model\": model,\n",
    "        \"optimizer\": optimizer\n",
    "    }\n",
    "    \n",
    "    for e in range(EPOCHS):\n",
    "        train_loss = 0.0\n",
    "        train_acc = 0.0\n",
    "        test_loss = 0.0\n",
    "        test_acc = 0.0\n",
    "        \n",
    "        model.train()\n",
    "        \n",
    "        for x, y in train_loader:\n",
    "            x = x.cuda()\n",
    "            y = y.float().cuda()\n",
    "            \n",
    "            loss, acc = train_step(context, x, y)\n",
    "            train_loss += loss\n",
    "            train_acc += acc\n",
    "            \n",
    "        model.eval()\n",
    "            \n",
    "        for x, y in test_loader:\n",
    "            x = x.cuda()\n",
    "            y = y.float().cuda()\n",
    "            \n",
    "            with torch.no_grad():\n",
    "                loss, acc = eval_step(context, x, y)\n",
    "                test_loss += loss\n",
    "                test_acc += acc\n",
    "                \n",
    "        train_loss /= len(train_loader)\n",
    "        train_acc /= len(train_loader)\n",
    "        test_loss /= len(test_loader)\n",
    "        test_acc /= len(test_loader)\n",
    "        \n",
    "        if (e+1)%1 == 0:\n",
    "            print(f\"Epochs {e+1}/{EPOCHS}\")\n",
    "            print(f\"Train loss: {train_loss:.8f}, train acc: {train_acc:.4f}\")\n",
    "            print(f\"Test loss: {test_loss:.8f}, test acc: {test_acc:.4f}\")"
   ]
  },
  {
   "cell_type": "code",
   "execution_count": 8,
   "id": "logical-advertising",
   "metadata": {},
   "outputs": [
    {
     "name": "stderr",
     "output_type": "stream",
     "text": [
      "/home/jylee/miniconda3/envs/torch/lib/python3.7/site-packages/PIL/TiffImagePlugin.py:770: UserWarning: Possibly corrupt EXIF data.  Expecting to read 32 bytes but only got 0. Skipping tag 270\n",
      "  \" Skipping tag %s\" % (size, len(data), tag)\n",
      "/home/jylee/miniconda3/envs/torch/lib/python3.7/site-packages/PIL/TiffImagePlugin.py:770: UserWarning: Possibly corrupt EXIF data.  Expecting to read 5 bytes but only got 0. Skipping tag 271\n",
      "  \" Skipping tag %s\" % (size, len(data), tag)\n",
      "/home/jylee/miniconda3/envs/torch/lib/python3.7/site-packages/PIL/TiffImagePlugin.py:770: UserWarning: Possibly corrupt EXIF data.  Expecting to read 8 bytes but only got 0. Skipping tag 272\n",
      "  \" Skipping tag %s\" % (size, len(data), tag)\n",
      "/home/jylee/miniconda3/envs/torch/lib/python3.7/site-packages/PIL/TiffImagePlugin.py:770: UserWarning: Possibly corrupt EXIF data.  Expecting to read 8 bytes but only got 0. Skipping tag 282\n",
      "  \" Skipping tag %s\" % (size, len(data), tag)\n",
      "/home/jylee/miniconda3/envs/torch/lib/python3.7/site-packages/PIL/TiffImagePlugin.py:770: UserWarning: Possibly corrupt EXIF data.  Expecting to read 8 bytes but only got 0. Skipping tag 283\n",
      "  \" Skipping tag %s\" % (size, len(data), tag)\n",
      "/home/jylee/miniconda3/envs/torch/lib/python3.7/site-packages/PIL/TiffImagePlugin.py:770: UserWarning: Possibly corrupt EXIF data.  Expecting to read 20 bytes but only got 0. Skipping tag 306\n",
      "  \" Skipping tag %s\" % (size, len(data), tag)\n",
      "/home/jylee/miniconda3/envs/torch/lib/python3.7/site-packages/PIL/TiffImagePlugin.py:770: UserWarning: Possibly corrupt EXIF data.  Expecting to read 48 bytes but only got 0. Skipping tag 532\n",
      "  \" Skipping tag %s\" % (size, len(data), tag)\n",
      "/home/jylee/miniconda3/envs/torch/lib/python3.7/site-packages/PIL/TiffImagePlugin.py:788: UserWarning: Corrupt EXIF data.  Expecting to read 2 bytes but only got 0. \n",
      "  warnings.warn(str(msg))\n"
     ]
    },
    {
     "name": "stdout",
     "output_type": "stream",
     "text": [
      "Epochs 1/5\n",
      "Train loss: 0.17482154, train acc: 0.9262\n",
      "Test loss: 0.11672409, test acc: 0.9551\n",
      "Epochs 2/5\n",
      "Train loss: 0.11972509, train acc: 0.9508\n",
      "Test loss: 0.11000201, test acc: 0.9551\n",
      "Epochs 3/5\n",
      "Train loss: 0.08814611, train acc: 0.9651\n",
      "Test loss: 0.14010405, test acc: 0.9475\n",
      "Epochs 4/5\n",
      "Train loss: 0.07685311, train acc: 0.9691\n",
      "Test loss: 0.17305548, test acc: 0.9353\n",
      "Epochs 5/5\n",
      "Train loss: 0.06460884, train acc: 0.9739\n",
      "Test loss: 0.14411096, test acc: 0.9438\n"
     ]
    }
   ],
   "source": [
    "train()"
   ]
  },
  {
   "cell_type": "code",
   "execution_count": null,
   "id": "right-import",
   "metadata": {},
   "outputs": [],
   "source": []
  }
 ],
 "metadata": {
  "interpreter": {
   "hash": "53ec427318b1ecfc4242640be3fc283a1f01d6ce568b59ab3d4634f586d90a3f"
  },
  "kernelspec": {
   "display_name": "Python (PyTorch)",
   "language": "python",
   "name": "torch"
  },
  "language_info": {
   "codemirror_mode": {
    "name": "ipython",
    "version": 3
   },
   "file_extension": ".py",
   "mimetype": "text/x-python",
   "name": "python",
   "nbconvert_exporter": "python",
   "pygments_lexer": "ipython3",
   "version": "3.7.9"
  }
 },
 "nbformat": 4,
 "nbformat_minor": 5
}
