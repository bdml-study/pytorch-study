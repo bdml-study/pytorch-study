{
 "cells": [
  {
   "cell_type": "code",
   "execution_count": 1,
   "metadata": {},
   "outputs": [],
   "source": [
    "import torch\n",
    "import numpy as np\n",
    "import matplotlib.pyplot as plt\n",
    "from utils.data import CatsAndDogs\n",
    "from torch.utils.data import DataLoader\n",
    "from torch import nn, optim\n",
    "from torch.nn import functional as F\n",
    "from torchvision.datasets import MNIST\n",
    "from torchvision.transforms import transforms\n",
    "from models.classifier import ClassifierForMNIST"
   ]
  },
  {
   "cell_type": "code",
   "execution_count": 2,
   "metadata": {},
   "outputs": [],
   "source": [
    "BATCH_SIZE = 16\n",
    "ETA = 1e-4\n",
    "EPOCHS = 10"
   ]
  },
  {
   "cell_type": "code",
   "execution_count": 3,
   "metadata": {},
   "outputs": [],
   "source": [
    "def compute_accuracy(ps, labels):\n",
    "    topk_vals, topk_indices = ps.topk(k=1, dim=1)\n",
    "    equality = (topk_indices.squeeze() == labels).float()\n",
    "    acc = equality.mean()\n",
    "    return acc"
   ]
  },
  {
   "cell_type": "code",
   "execution_count": 4,
   "metadata": {},
   "outputs": [],
   "source": [
    "def train_step(context, x, y):\n",
    "    model = context[\"model\"]\n",
    "    optimizer = context[\"optimizer\"]\n",
    "    \n",
    "    optimizer.zero_grad()\n",
    "    \n",
    "    N = x.size(0)\n",
    "    x = x.view(N, 1, 28, 28)\n",
    "    \n",
    "    logps = model(x)\n",
    "    loss = F.nll_loss(logps, y.long()) # nn.NLLLoss()(ps, y) 와 같음\n",
    "    \n",
    "    loss.backward()\n",
    "    optimizer.step()\n",
    "    \n",
    "    ps = torch.exp(logps)\n",
    "    acc = compute_accuracy(ps, y.long())\n",
    "    \n",
    "    return loss.item(), acc.item()"
   ]
  },
  {
   "cell_type": "code",
   "execution_count": 5,
   "metadata": {},
   "outputs": [],
   "source": [
    "def eval_step(context, x, y):\n",
    "    model = context[\"model\"]\n",
    "    \n",
    "    N = x.size(0)\n",
    "    x = x.view(N, 1, 28, 28)\n",
    "    \n",
    "    logps = model(x)\n",
    "    loss = F.nll_loss(logps, y.long()) # nn.NLLLoss()(ps, y) 와 같음\n",
    "    \n",
    "    ps = torch.exp(logps)\n",
    "    acc = compute_accuracy(ps, y.long())\n",
    "    \n",
    "    return loss.item(), acc.item()"
   ]
  },
  {
   "cell_type": "code",
   "execution_count": 6,
   "metadata": {},
   "outputs": [],
   "source": [
    "def train():\n",
    "    transform = transforms.Compose([\n",
    "        transforms.ToTensor(),\n",
    "        transforms.Normalize((0.5,), (1.0,))\n",
    "    ])\n",
    "    \n",
    "    trainset = MNIST(\"../data\", transform=transform, download=False, train=True)\n",
    "    train_loader = DataLoader(trainset, batch_size=BATCH_SIZE, shuffle=True)\n",
    "    \n",
    "    testset = MNIST(\"../data\", transform=transform, download=False, train=False)\n",
    "    test_loader = DataLoader(testset, batch_size=BATCH_SIZE)\n",
    "    \n",
    "    model = ClassifierForMNIST().cuda()\n",
    "    optimizer = optim.Adam(model.parameters())\n",
    "    \n",
    "    context = {\n",
    "        \"model\": model,\n",
    "        \"optimizer\": optimizer\n",
    "    }\n",
    "    \n",
    "    for e in range(EPOCHS):\n",
    "        train_loss = 0.0\n",
    "        train_acc = 0.0\n",
    "        test_loss = 0.0\n",
    "        test_acc = 0.0\n",
    "        \n",
    "        model.train()\n",
    "        \n",
    "        for x, y in train_loader:\n",
    "            x = x.cuda()\n",
    "            y = y.float().cuda()\n",
    "            \n",
    "            loss, acc = train_step(context, x, y)\n",
    "            train_loss += loss\n",
    "            train_acc += acc\n",
    "            \n",
    "        model.eval()\n",
    "            \n",
    "        for x, y in test_loader:\n",
    "            x = x.cuda()\n",
    "            y = y.float().cuda()\n",
    "            \n",
    "            with torch.no_grad():\n",
    "                loss, acc = eval_step(context, x, y)\n",
    "                test_loss += loss\n",
    "                test_acc += acc\n",
    "                \n",
    "        train_loss /= len(train_loader)\n",
    "        train_acc /= len(train_loader)\n",
    "        test_loss /= len(test_loader)\n",
    "        test_acc /= len(test_loader)\n",
    "        \n",
    "        print(f\"Epochs {e+1}/{EPOCHS}\")\n",
    "        print(f\"Train loss: {train_loss:.8f}, train acc: {train_acc:.4f}\")\n",
    "        print(f\"Test loss: {test_loss:.8f}, test acc: {test_acc:.4f}\")"
   ]
  },
  {
   "cell_type": "code",
   "execution_count": 7,
   "metadata": {},
   "outputs": [
    {
     "name": "stdout",
     "output_type": "stream",
     "text": [
      "Epochs 1/10\n",
      "Train loss: 0.16323918, train acc: 0.9503\n",
      "Test loss: 0.06671247, test acc: 0.9791\n",
      "Epochs 2/10\n",
      "Train loss: 0.05828028, train acc: 0.9819\n",
      "Test loss: 0.06355739, test acc: 0.9789\n",
      "Epochs 3/10\n",
      "Train loss: 0.04144047, train acc: 0.9869\n",
      "Test loss: 0.04513464, test acc: 0.9868\n",
      "Epochs 4/10\n",
      "Train loss: 0.03090168, train acc: 0.9904\n",
      "Test loss: 0.04770483, test acc: 0.9851\n",
      "Epochs 5/10\n",
      "Train loss: 0.02363882, train acc: 0.9924\n",
      "Test loss: 0.05327287, test acc: 0.9837\n",
      "Epochs 6/10\n",
      "Train loss: 0.01803125, train acc: 0.9944\n",
      "Test loss: 0.05035236, test acc: 0.9862\n",
      "Epochs 7/10\n",
      "Train loss: 0.01448422, train acc: 0.9953\n",
      "Test loss: 0.04739158, test acc: 0.9867\n",
      "Epochs 8/10\n",
      "Train loss: 0.01147383, train acc: 0.9962\n",
      "Test loss: 0.05514707, test acc: 0.9868\n",
      "Epochs 9/10\n",
      "Train loss: 0.00980160, train acc: 0.9966\n",
      "Test loss: 0.06190576, test acc: 0.9859\n",
      "Epochs 10/10\n",
      "Train loss: 0.00768372, train acc: 0.9974\n",
      "Test loss: 0.07446346, test acc: 0.9844\n"
     ]
    }
   ],
   "source": [
    "train()"
   ]
  },
  {
   "cell_type": "code",
   "execution_count": null,
   "metadata": {},
   "outputs": [],
   "source": []
  }
 ],
 "metadata": {
  "kernelspec": {
   "display_name": "Python 3",
   "language": "python",
   "name": "python3"
  },
  "language_info": {
   "codemirror_mode": {
    "name": "ipython",
    "version": 3
   },
   "file_extension": ".py",
   "mimetype": "text/x-python",
   "name": "python",
   "nbconvert_exporter": "python",
   "pygments_lexer": "ipython3",
   "version": "3.7.6"
  }
 },
 "nbformat": 4,
 "nbformat_minor": 4
}
