{
 "cells": [
  {
   "cell_type": "code",
   "execution_count": 1,
   "metadata": {},
   "outputs": [],
   "source": [
    "import torch\n",
    "import numpy as np\n",
    "import matplotlib.pyplot as plt\n",
    "from utils.data import CatsAndDogs\n",
    "from torch.utils.data import DataLoader\n",
    "from torch import nn, optim\n",
    "from torch.nn import functional as F\n",
    "from models.classifier import ClassifierForCatsAndDogs"
   ]
  },
  {
   "cell_type": "code",
   "execution_count": 2,
   "metadata": {},
   "outputs": [],
   "source": [
    "BATCH_SIZE = 16\n",
    "ETA = 1e-4\n",
    "EPOCHS = 20"
   ]
  },
  {
   "cell_type": "code",
   "execution_count": 3,
   "metadata": {},
   "outputs": [],
   "source": [
    "def compute_accuracy(ps, labels):\n",
    "    equality = (torch.round(ps) == labels).float()\n",
    "    acc = equality.mean()\n",
    "    return acc"
   ]
  },
  {
   "cell_type": "code",
   "execution_count": 4,
   "metadata": {},
   "outputs": [],
   "source": [
    "def train_step(context, x, y):\n",
    "    model = context[\"model\"]\n",
    "    optimizer = context[\"optimizer\"]\n",
    "    \n",
    "    optimizer.zero_grad()\n",
    "    \n",
    "    ps = model(x)\n",
    "    loss = F.binary_cross_entropy(ps.squeeze(), y) # nn.BCELoss()(ps, y) 와 같음\n",
    "    \n",
    "    loss.backward()\n",
    "    optimizer.step()\n",
    "    \n",
    "    acc = compute_accuracy(ps, y)\n",
    "    \n",
    "    return loss.item(), acc.item()"
   ]
  },
  {
   "cell_type": "code",
   "execution_count": 5,
   "metadata": {},
   "outputs": [],
   "source": [
    "def eval_step(context, x, y):\n",
    "    model = context[\"model\"]\n",
    "    \n",
    "    ps = model(x)\n",
    "    loss = F.binary_cross_entropy(ps.squeeze(), y) # nn.BCELoss()(ps, y) 와 같음\n",
    "    \n",
    "    acc = compute_accuracy(ps, y)\n",
    "    \n",
    "    return loss.item(), acc.item()"
   ]
  },
  {
   "cell_type": "code",
   "execution_count": 6,
   "metadata": {},
   "outputs": [],
   "source": [
    "def train():\n",
    "    trainset = CatsAndDogs(mode=\"train\")\n",
    "    train_loader = DataLoader(trainset, batch_size=BATCH_SIZE, shuffle=True)\n",
    "    \n",
    "    testset = CatsAndDogs(mode=\"test\")\n",
    "    test_loader = DataLoader(testset, batch_size=BATCH_SIZE)\n",
    "    \n",
    "    model = ClassifierForCatsAndDogs().cuda()\n",
    "    optimizer = optim.Adam(model.parameters())\n",
    "    \n",
    "    context = {\n",
    "        \"model\": model,\n",
    "        \"optimizer\": optimizer\n",
    "    }\n",
    "    \n",
    "    for e in range(EPOCHS):\n",
    "        train_loss = 0.0\n",
    "        train_acc = 0.0\n",
    "        test_loss = 0.0\n",
    "        test_acc = 0.0\n",
    "        \n",
    "        model.train()\n",
    "        \n",
    "        for x, y in train_loader:\n",
    "            x = x.cuda()\n",
    "            y = y.float().cuda()\n",
    "            \n",
    "            loss, acc = train_step(context, x, y)\n",
    "            train_loss += loss\n",
    "            train_acc += acc\n",
    "            \n",
    "        model.eval()\n",
    "            \n",
    "        for x, y in test_loader:\n",
    "            x = x.cuda()\n",
    "            y = y.float().cuda()\n",
    "            \n",
    "            with torch.no_grad():\n",
    "                loss, acc = eval_step(context, x, y)\n",
    "                test_loss += loss\n",
    "                test_acc += acc\n",
    "                \n",
    "        train_loss /= len(train_loader)\n",
    "        train_acc /= len(train_loader)\n",
    "        test_loss /= len(test_loader)\n",
    "        test_acc /= len(test_loader)\n",
    "        \n",
    "        print(f\"Epochs {e+1}/{EPOCHS}\")\n",
    "        print(f\"Train loss: {train_loss:.8f}, train acc: {train_acc:.4f}\")\n",
    "        print(f\"Test loss: {test_loss:.8f}, test acc: {test_acc:.4f}\")"
   ]
  },
  {
   "cell_type": "code",
   "execution_count": 7,
   "metadata": {},
   "outputs": [
    {
     "name": "stdout",
     "output_type": "stream",
     "text": [
      "Epochs 1/20\n",
      "Train loss: 0.69559437, train acc: 0.4815\n",
      "Test loss: 0.69927099, test acc: 0.4911\n",
      "Epochs 2/20\n",
      "Train loss: 0.67358583, train acc: 0.6296\n",
      "Test loss: 0.70240709, test acc: 0.3973\n",
      "Epochs 3/20\n",
      "Train loss: 0.65808427, train acc: 0.6412\n",
      "Test loss: 0.73590100, test acc: 0.4688\n",
      "Epochs 4/20\n",
      "Train loss: 0.62820077, train acc: 0.7153\n",
      "Test loss: 0.70728040, test acc: 0.5357\n",
      "Epochs 5/20\n",
      "Train loss: 0.60059261, train acc: 0.7361\n",
      "Test loss: 0.75647756, test acc: 0.4866\n",
      "Epochs 6/20\n",
      "Train loss: 0.55906087, train acc: 0.7685\n",
      "Test loss: 0.72725889, test acc: 0.5513\n",
      "Epochs 7/20\n",
      "Train loss: 0.52110539, train acc: 0.8264\n",
      "Test loss: 0.75850467, test acc: 0.5536\n",
      "Epochs 8/20\n",
      "Train loss: 0.47859054, train acc: 0.8472\n",
      "Test loss: 0.74806240, test acc: 0.5179\n",
      "Epochs 9/20\n",
      "Train loss: 0.44657960, train acc: 0.8218\n",
      "Test loss: 0.75562802, test acc: 0.5112\n",
      "Epochs 10/20\n",
      "Train loss: 0.41675978, train acc: 0.8333\n",
      "Test loss: 0.75821543, test acc: 0.4866\n",
      "Epochs 11/20\n",
      "Train loss: 0.36084943, train acc: 0.8819\n",
      "Test loss: 0.72310454, test acc: 0.5915\n",
      "Epochs 12/20\n",
      "Train loss: 0.32134502, train acc: 0.9028\n",
      "Test loss: 0.79410867, test acc: 0.5268\n",
      "Epochs 13/20\n",
      "Train loss: 0.25713906, train acc: 0.9630\n",
      "Test loss: 0.79203546, test acc: 0.5625\n",
      "Epochs 14/20\n",
      "Train loss: 0.20269243, train acc: 0.9653\n",
      "Test loss: 0.84970641, test acc: 0.5491\n",
      "Epochs 15/20\n",
      "Train loss: 0.16720562, train acc: 0.9861\n",
      "Test loss: 0.88156474, test acc: 0.5647\n",
      "Epochs 16/20\n",
      "Train loss: 0.13319008, train acc: 0.9861\n",
      "Test loss: 0.91600086, test acc: 0.6250\n",
      "Epochs 17/20\n",
      "Train loss: 0.11119591, train acc: 0.9931\n",
      "Test loss: 0.94674076, test acc: 0.5536\n",
      "Epochs 18/20\n",
      "Train loss: 0.09806981, train acc: 0.9907\n",
      "Test loss: 1.06731623, test acc: 0.5915\n",
      "Epochs 19/20\n",
      "Train loss: 0.07299156, train acc: 1.0000\n",
      "Test loss: 1.04419249, test acc: 0.6228\n",
      "Epochs 20/20\n",
      "Train loss: 0.06769492, train acc: 0.9907\n",
      "Test loss: 1.08020613, test acc: 0.5670\n"
     ]
    }
   ],
   "source": [
    "train()"
   ]
  },
  {
   "cell_type": "code",
   "execution_count": null,
   "metadata": {},
   "outputs": [],
   "source": []
  }
 ],
 "metadata": {
  "kernelspec": {
   "display_name": "Python 3",
   "language": "python",
   "name": "python3"
  },
  "language_info": {
   "codemirror_mode": {
    "name": "ipython",
    "version": 3
   },
   "file_extension": ".py",
   "mimetype": "text/x-python",
   "name": "python",
   "nbconvert_exporter": "python",
   "pygments_lexer": "ipython3",
   "version": "3.8.10"
  }
 },
 "nbformat": 4,
 "nbformat_minor": 4
}
