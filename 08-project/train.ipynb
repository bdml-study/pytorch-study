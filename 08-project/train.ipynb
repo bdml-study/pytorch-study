{
 "cells": [
  {
   "cell_type": "code",
   "execution_count": 1,
   "id": "8d7c7dc2-3084-4bff-b1e7-a0bc6191a018",
   "metadata": {},
   "outputs": [],
   "source": [
    "import torch\n",
    "import numpy as np\n",
    "import matplotlib.pyplot as plt\n",
    "from data_utils.data import FaceMaskDetectorData\n",
    "from torch.utils.data import DataLoader\n",
    "from torch import nn, optim\n",
    "from torch.nn import functional as F\n",
    "from models.face_mask_detector import FaceMaskDetector\n",
    "from settings import *"
   ]
  },
  {
   "cell_type": "code",
   "execution_count": 8,
   "id": "77532920-4171-4d0d-8410-46597cd7713c",
   "metadata": {},
   "outputs": [],
   "source": [
    "BATCH_SIZE = 128\n",
    "ETA = 1e-3\n",
    "EPOCHS = 5"
   ]
  },
  {
   "cell_type": "code",
   "execution_count": 3,
   "id": "c09a3907-abcc-4463-adf1-a1f9ad8d963d",
   "metadata": {},
   "outputs": [],
   "source": [
    "def compute_accuracy(ps, labels):\n",
    "    equality = (torch.round(ps) == labels).float()\n",
    "    acc = equality.mean()\n",
    "    return acc"
   ]
  },
  {
   "cell_type": "code",
   "execution_count": 4,
   "id": "d5bfef52-1532-48bd-bc67-68eefeba6ed6",
   "metadata": {},
   "outputs": [],
   "source": [
    "def train_step(context, x, y):\n",
    "    model = context[\"model\"]\n",
    "    optimizer = context[\"optimizer\"]\n",
    "    \n",
    "    optimizer.zero_grad()\n",
    "    \n",
    "    ps = model(x)\n",
    "    ps = ps.squeeze()\n",
    "    loss = F.binary_cross_entropy(ps, y) # nn.BCELoss()(ps, y) 와 같음\n",
    "    \n",
    "    loss.backward()\n",
    "    optimizer.step()\n",
    "    \n",
    "    acc = compute_accuracy(ps, y)\n",
    "    \n",
    "    return loss.item(), acc.item()"
   ]
  },
  {
   "cell_type": "code",
   "execution_count": 5,
   "id": "11fd0ae4-a31c-41dd-9fc7-de83d4899657",
   "metadata": {},
   "outputs": [],
   "source": [
    "def eval_step(context, x, y):\n",
    "    model = context[\"model\"]\n",
    "    \n",
    "    ps = model(x)\n",
    "    ps = ps.squeeze()\n",
    "    loss = F.binary_cross_entropy(ps, y) # nn.BCELoss()(ps, y) 와 같음\n",
    "    \n",
    "    acc = compute_accuracy(ps, y)\n",
    "    \n",
    "    return loss.item(), acc.item()"
   ]
  },
  {
   "cell_type": "code",
   "execution_count": 11,
   "id": "9640d864-115f-4306-bb68-194b50846b9a",
   "metadata": {},
   "outputs": [],
   "source": [
    "def train():\n",
    "    trainset = FaceMaskDetectorData(mode=\"train\", distortion=True, flip=True)\n",
    "    train_loader = DataLoader(trainset, batch_size=BATCH_SIZE, shuffle=True)\n",
    "    \n",
    "    testset = FaceMaskDetectorData(mode=\"test\")\n",
    "    test_loader = DataLoader(testset, batch_size=BATCH_SIZE)\n",
    "    \n",
    "    if CUDA is True:\n",
    "        model = FaceMaskDetector().cuda()\n",
    "    else:\n",
    "        model = FaceMaskDetector()\n",
    "        \n",
    "    optimizer = optim.Adam(model.parameters())\n",
    "    \n",
    "    context = {\n",
    "        \"model\": model,\n",
    "        \"optimizer\": optimizer\n",
    "    }\n",
    "    \n",
    "    for e in range(EPOCHS):\n",
    "        train_loss = 0.0\n",
    "        train_acc = 0.0\n",
    "        test_loss = 0.0\n",
    "        test_acc = 0.0\n",
    "        \n",
    "        model.train()\n",
    "        \n",
    "        for x, y in train_loader:\n",
    "            y = y.float()\n",
    "            if CUDA is True:\n",
    "                x = x.cuda()\n",
    "                y = y.cuda()\n",
    "            \n",
    "            loss, acc = train_step(context, x, y)\n",
    "            train_loss += loss\n",
    "            train_acc += acc\n",
    "            \n",
    "        model.eval()\n",
    "            \n",
    "        for x, y in test_loader:\n",
    "            y = y.float()\n",
    "            if CUDA is True:\n",
    "                x = x.cuda()\n",
    "                y = y.cuda()\n",
    "            \n",
    "            with torch.no_grad():\n",
    "                loss, acc = eval_step(context, x, y)\n",
    "                test_loss += loss\n",
    "                test_acc += acc\n",
    "                \n",
    "        train_loss /= len(train_loader)\n",
    "        train_acc /= len(train_loader)\n",
    "        test_loss /= len(test_loader)\n",
    "        test_acc /= len(test_loader)\n",
    "        \n",
    "        print(f\"Epochs {e+1}/{EPOCHS}\")\n",
    "        print(f\"Train loss: {train_loss:.8f}, train acc: {train_acc:.4f}\")\n",
    "        print(f\"Test loss: {test_loss:.8f}, test acc: {test_acc:.4f}\")\n",
    "        \n",
    "        torch.save(model.state_dict(), FACE_MASK_DETECTOR_CKPT)"
   ]
  },
  {
   "cell_type": "code",
   "execution_count": 12,
   "id": "6a231a3f-5393-4b69-8032-9e2cb9f02b3d",
   "metadata": {},
   "outputs": [
    {
     "name": "stdout",
     "output_type": "stream",
     "text": [
      "Epochs 1/5\n",
      "Train loss: 0.06416446, train acc: 0.9767\n",
      "Test loss: 0.06560599, test acc: 0.9766\n",
      "Epochs 2/5\n",
      "Train loss: 0.01222781, train acc: 0.9957\n",
      "Test loss: 0.01139956, test acc: 0.9961\n",
      "Epochs 3/5\n",
      "Train loss: 0.01128252, train acc: 0.9961\n",
      "Test loss: 0.00411116, test acc: 0.9980\n",
      "Epochs 4/5\n",
      "Train loss: 0.00933823, train acc: 0.9970\n",
      "Test loss: 0.07452293, test acc: 0.9805\n",
      "Epochs 5/5\n",
      "Train loss: 0.00611910, train acc: 0.9978\n",
      "Test loss: 0.00873989, test acc: 0.9990\n"
     ]
    }
   ],
   "source": [
    "train()"
   ]
  },
  {
   "cell_type": "code",
   "execution_count": null,
   "id": "d479f9b2-46e6-4959-8de7-5cff20214857",
   "metadata": {},
   "outputs": [],
   "source": []
  }
 ],
 "metadata": {
  "kernelspec": {
   "display_name": "Python 3",
   "language": "python",
   "name": "python3"
  },
  "language_info": {
   "codemirror_mode": {
    "name": "ipython",
    "version": 3
   },
   "file_extension": ".py",
   "mimetype": "text/x-python",
   "name": "python",
   "nbconvert_exporter": "python",
   "pygments_lexer": "ipython3",
   "version": "3.8.10"
  }
 },
 "nbformat": 4,
 "nbformat_minor": 5
}
